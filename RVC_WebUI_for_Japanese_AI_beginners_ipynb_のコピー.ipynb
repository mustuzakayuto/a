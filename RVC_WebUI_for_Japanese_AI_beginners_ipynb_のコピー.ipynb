{
  "nbformat": 4,
  "nbformat_minor": 0,
  "metadata": {
    "colab": {
      "provenance": [],
      "collapsed_sections": [
        "4o6Zc449feSx",
        "K_yRrDrkhVGU",
        "TOz9ipJAicp1",
        "9Z2KUaTqjiug",
        "zi0YMWl6kodB",
        "UwsFZP4vnfFz",
        "xX2-E4l_r0B9",
        "aTzm-QeEx6sh"
      ],
      "include_colab_link": true
    },
    "kernelspec": {
      "name": "python3",
      "display_name": "Python 3"
    },
    "language_info": {
      "name": "python"
    },
    "accelerator": "GPU",
    "gpuClass": "standard"
  },
  "cells": [
    {
      "cell_type": "markdown",
      "metadata": {
        "id": "view-in-github",
        "colab_type": "text"
      },
      "source": [
        "<a href=\"https://colab.research.google.com/github/mustuzakayuto/a/blob/communication/RVC_WebUI_for_Japanese_AI_beginners_ipynb_%E3%81%AE%E3%82%B3%E3%83%94%E3%83%BC.ipynb\" target=\"_parent\"><img src=\"https://colab.research.google.com/assets/colab-badge.svg\" alt=\"Open In Colab\"/></a>"
      ]
    },
    {
      "cell_type": "markdown",
      "source": [
        "# **【RVC WebUIの起動方法】**<br>\n"
      ],
      "metadata": {
        "id": "abHLgoqK-wvt"
      }
    },
    {
      "cell_type": "markdown",
      "source": [
        "2023年4月に公開されたAIボイスチェンジャーこと<br><br>\n",
        "\n",
        "**RVC WebUI：**<br>\n",
        "[RVC-Project（旧liujing04）/Retrieval-based-Voice-Conversion-WebUI（The MIT License）| GitHub](https://github.com/RVC-Project/Retrieval-based-Voice-Conversion-WebUI)\n",
        "<br><br>\n",
        "\n",
        "を使いたくても、<br><br>\n",
        "\n",
        "**「一体どうやって使ったらいいのかわからない・・・」**\n",
        "<br><br>\n",
        "などと、悲しい思いをされている方も多いのではないかと思います。<br>\n",
        "プログラムを使うには、<br><br>\n",
        "\n",
        "**・機械学習プログラムのルール**<br>\n",
        "**・ある程度のファイル構造の理解**<br>\n",
        "**・ファイルの指定の仕方**<br>\n",
        "**・中国語？英語？（の翻訳方法）**<br><br>\n",
        "\n",
        "を知らないと、歯が立たないのではないかと察します。<br>\n",
        "そこで今回は、RVC WebUIに関心のある日本人の方が、AIボイスチェンジャーを気軽に楽しめるようにするために、<br>\n",
        "Google Colaboratoryを使ってRVC WebUIを起動し、オリジナルのAIボイスチェンジャーを作る方法をまとめておこうと思います。<br>\n",
        "一連の情報が、AIボイスチェンジャーに触れるきっかけになることがありましたら幸いです。\n",
        "<br><br>\n",
        "\n",
        "**【Google Colaboratory上のコードの動かし方】**<br><br>\n",
        "まず始めに、Google Colaboratory上のプログラムを実行するには、<br><br>\n",
        "**①Googleアカウントでログイン**<br>\n",
        "**②ドライブにコピーを保存**（RVC-WebUI-for-Japanese-AI-beginners.ipynbのノートブックを保存）<br>\n",
        "＊Google Colaboratoryのメニューから「ファイル - ドライブにコピーを保存」\n",
        "<br><br>\n",
        "を実行し、お好きな名前に変更後に以下のコードを実行していきます。<br><br>\n",
        "コードの実行は、<br><br>\n",
        "・**すべてのセルを実行**<br>\n",
        "　＊Google Colaboratoryのメニューから「ランタイム - すべてのセルを実行」\n",
        "<br><br>\n",
        "をしてもらえば大丈夫です。<br>\n",
        "要点を押さえれば、RVC WebUIを起動するまでの手順は簡単ですね。\n",
        "<br><br>\n",
        "**【追記：2023年4月18日】**<br>\n",
        "チュートリアル動画も公開しました。<br>\n",
        "[【現代の魔法】RVC WebUIの使い方入門：オリジナルAIボイスチェンジャーを作ろう（男性・女性の声）RVC WebUI - AI Voice Changer Tutorial by RehabC - デジタルで、遊ぶ。（YouTube動画）](https://youtu.be/PHmePSSKD88)\n",
        "<br>\n",
        "テキスト情報だけでは理解しにくい場合などにご活用いただけますと幸いです。\n",
        "<br><br>\n",
        "**【追記：2023年5月14日】**<br>\n",
        "「だだっこぱんだ」（ddPn08）さん版のRVC WebUIのチュートリアル動画も公開しました。<br>\n",
        "[【現代の魔法】ddPn08版 - RVC WebUIの使い方入門：オリジナルAIボイスチェンジャーを作ろう ddPn08 Edition - AI Voice Changer Tutorial by RehabC - デジタルで、遊ぶ。（YouTube動画）](https://youtu.be/jNjRO5GW0sc)\n",
        "<br><br>\n",
        "**【追記：2023年5月24日】**<br>\n",
        "2023年5月中旬にリリースされたRVC公式の事前学習済みモデルのバージョン2（RVC v2モデル）に対応させたチュートリアルプログラムのコードを公開しておきました。 <br><br>\n",
        "**RVC v2モデル対応版チュートリアルコード：**<br>\n",
        "[v2-RVC-WebUI-for-Japanese-AI-beginners.ipynb（The MIT License）| Google Colaboratory](https://colab.research.google.com/drive/167MO7kMZkcq6fuQJu5T3vvjjHZn4fGf9?usp=sharing)\n",
        "<br><br>\n",
        "**【確認事象：2023年6月16日】**<br>\n",
        "RVC  WebUIを起動する際のエラー<br><br>\n",
        "**AttributeError: module 'gradio.components' has no attribute 'FormComponent'. Did you mean: 'IOComponent'?**<br><br>\n",
        "が出ないように修正しておきました。\n",
        "<br><br>\n",
        "**【確認事象：2023年7月18日】**<br>\n",
        "RVC  WebUIを起動する際のエラー<br><br>\n",
        "**ModuleNotFoundError: No module named 'faiss'**<br><br>\n",
        "が出ないように修正しておきました。\n",
        "<br><br>\n",
        "**【確認事象：2023年8月12日】**<br>\n",
        "RVC  WebUIで学習する際の不具合<br><br>\n",
        "**事前学習済みモデルが反映されない・学習が進まない**<br><br>\n",
        "などが出ないように修正しておきました。\n",
        "<br><br><br>"
      ],
      "metadata": {
        "id": "xOVrHQL9Arhq"
      }
    },
    {
      "cell_type": "markdown",
      "source": [
        "**【プログラムのライセンス】**\n",
        "<br>**The MIT License**\n",
        "\n",
        "Copyright 2023 child programmer\n",
        "\n",
        "Permission is hereby granted, free of charge, to any person obtaining a copy of this software and associated documentation files (the \"Software\"), to deal in the Software without restriction, including without limitation the rights to use, copy, modify, merge, publish, distribute, sublicense, and/or sell copies of the Software, and to permit persons to whom the Software is furnished to do so, subject to the following conditions:\n",
        "\n",
        "The above copyright notice and this permission notice shall be included in all copies or substantial portions of the Software.\n",
        "\n",
        "THE SOFTWARE IS PROVIDED \"AS IS\", WITHOUT WARRANTY OF ANY KIND, EXPRESS OR IMPLIED, INCLUDING BUT NOT LIMITED TO THE WARRANTIES OF MERCHANTABILITY, FITNESS FOR A PARTICULAR PURPOSE AND NONINFRINGEMENT. IN NO EVENT SHALL THE AUTHORS OR COPYRIGHT HOLDERS BE LIABLE FOR ANY CLAIM, DAMAGES OR OTHER LIABILITY, WHETHER IN AN ACTION OF CONTRACT, TORT OR OTHERWISE, ARISING FROM, OUT OF OR IN CONNECTION WITH THE SOFTWARE OR THE USE OR OTHER DEALINGS IN THE SOFTWARE."
      ],
      "metadata": {
        "id": "qplBYYfMDH0g"
      }
    },
    {
      "cell_type": "markdown",
      "source": [
        "# **【手順１：GPUの確認】**<br>\n",
        "\n",
        "以下のコマンドでGPUの確認ができない場合には、Google Colaboratoryのメニューから\n",
        "<br><br>\n",
        "「**ランタイム - ランタイムの変更 - ハードウェア アクセラレータ**」\n",
        "<br><br>\n",
        "で「**GPU**」を選択後に、保存し、再度コードを実行してみてください。"
      ],
      "metadata": {
        "id": "4o6Zc449feSx"
      }
    },
    {
      "cell_type": "code",
      "execution_count": null,
      "metadata": {
        "colab": {
          "base_uri": "https://localhost:8080/"
        },
        "id": "JFX_3e6_fXLK",
        "outputId": "59d2ba8e-397a-46a9-cab2-f0f5c61c97c2"
      },
      "outputs": [
        {
          "output_type": "stream",
          "name": "stdout",
          "text": [
            "Mon Apr 24 06:35:53 2023       \n",
            "+-----------------------------------------------------------------------------+\n",
            "| NVIDIA-SMI 525.85.12    Driver Version: 525.85.12    CUDA Version: 12.0     |\n",
            "|-------------------------------+----------------------+----------------------+\n",
            "| GPU  Name        Persistence-M| Bus-Id        Disp.A | Volatile Uncorr. ECC |\n",
            "| Fan  Temp  Perf  Pwr:Usage/Cap|         Memory-Usage | GPU-Util  Compute M. |\n",
            "|                               |                      |               MIG M. |\n",
            "|===============================+======================+======================|\n",
            "|   0  Tesla T4            Off  | 00000000:00:04.0 Off |                    0 |\n",
            "| N/A   42C    P8     9W /  70W |      0MiB / 15360MiB |      0%      Default |\n",
            "|                               |                      |                  N/A |\n",
            "+-------------------------------+----------------------+----------------------+\n",
            "                                                                               \n",
            "+-----------------------------------------------------------------------------+\n",
            "| Processes:                                                                  |\n",
            "|  GPU   GI   CI        PID   Type   Process name                  GPU Memory |\n",
            "|        ID   ID                                                   Usage      |\n",
            "|=============================================================================|\n",
            "|  No running processes found                                                 |\n",
            "+-----------------------------------------------------------------------------+\n",
            "nvcc: NVIDIA (R) Cuda compiler driver\n",
            "Copyright (c) 2005-2022 NVIDIA Corporation\n",
            "Built on Wed_Sep_21_10:33:58_PDT_2022\n",
            "Cuda compilation tools, release 11.8, V11.8.89\n",
            "Build cuda_11.8.r11.8/compiler.31833905_0\n",
            "              total        used        free      shared  buff/cache   available\n",
            "Mem:           12Gi       655Mi       9.0Gi       1.0Mi       3.0Gi        11Gi\n",
            "Swap:            0B          0B          0B\n"
          ]
        }
      ],
      "source": [
        "!nvidia-smi\n",
        "!nvcc -V\n",
        "!free -h"
      ]
    },
    {
      "cell_type": "markdown",
      "source": [
        "# **【手順２：依存関係のインストール】**<br>\n",
        "確認時点では初回実行時に、<br><br>\n",
        "\n",
        "WARNING: Running pip as the 'root' user can result in broken permissions and conflicting behaviour with the system package manager. It is recommended to use a virtual environment instead: https://pip.pypa.io/warnings/venv\n",
        "WARNING: The following packages were previously imported in this runtime:\n",
        "  [numpy]\n",
        "You must restart the runtime in order to use newly installed versions.<br><br>\n",
        "RESTART RUNTIME\n",
        "<br><br>\n",
        "という警告が出ますが、そのままでも大丈夫なようでした。<br>\n",
        "気になる方は、表示されている「**RESTART RUNTIME**」のボタンをクリックしランタイムを再起動させて、再度「**手順１**」からコードを実行してください。\n",
        "\n"
      ],
      "metadata": {
        "id": "K_yRrDrkhVGU"
      }
    },
    {
      "cell_type": "code",
      "source": [
        "!pip3 install jedi\n",
        "!apt-get -y install build-essential python3-dev ffmpeg\n",
        "!pip3 install --upgrade setuptools wheel\n",
        "!pip3 install --upgrade pip\n",
        "!pip3 install faiss-gpu fairseq gradio==3.14.0 ffmpeg ffmpeg-python praat-parselmouth pyworld==0.3.2 numpy==1.23.5 numba==0.56.4 librosa==0.9.2 tensorboardX onnx"
      ],
      "metadata": {
        "colab": {
          "base_uri": "https://localhost:8080/",
          "height": 1000
        },
        "id": "D8gFPHcphUle",
        "outputId": "fd2b995a-f028-492b-f560-1eb48600c0b8"
      },
      "execution_count": null,
      "outputs": [
        {
          "output_type": "stream",
          "name": "stdout",
          "text": [
            "Reading package lists... Done\n",
            "Building dependency tree       \n",
            "Reading state information... Done\n",
            "python3-dev is already the newest version (3.8.2-0ubuntu2).\n",
            "python3-dev set to manually installed.\n",
            "build-essential is already the newest version (12.8ubuntu1.1).\n",
            "ffmpeg is already the newest version (7:4.2.7-0ubuntu0.1).\n",
            "0 upgraded, 0 newly installed, 0 to remove and 24 not upgraded.\n",
            "Looking in indexes: https://pypi.org/simple, https://us-python.pkg.dev/colab-wheels/public/simple/\n",
            "Requirement already satisfied: setuptools in /usr/local/lib/python3.9/dist-packages (67.6.1)\n",
            "Requirement already satisfied: wheel in /usr/local/lib/python3.9/dist-packages (0.40.0)\n",
            "Looking in indexes: https://pypi.org/simple, https://us-python.pkg.dev/colab-wheels/public/simple/\n",
            "Requirement already satisfied: pip in /usr/local/lib/python3.9/dist-packages (23.0.1)\n",
            "Collecting pip\n",
            "  Downloading pip-23.1-py3-none-any.whl (2.1 MB)\n",
            "\u001b[2K     \u001b[90m━━━━━━━━━━━━━━━━━━━━━━━━━━━━━━━━━━━━━━━━\u001b[0m \u001b[32m2.1/2.1 MB\u001b[0m \u001b[31m24.4 MB/s\u001b[0m eta \u001b[36m0:00:00\u001b[0m\n",
            "\u001b[?25hInstalling collected packages: pip\n",
            "  Attempting uninstall: pip\n",
            "    Found existing installation: pip 23.0.1\n",
            "    Uninstalling pip-23.0.1:\n",
            "      Successfully uninstalled pip-23.0.1\n",
            "Successfully installed pip-23.1\n",
            "Looking in indexes: https://pypi.org/simple, https://us-python.pkg.dev/colab-wheels/public/simple/\n",
            "Collecting faiss-gpu\n",
            "  Downloading faiss_gpu-1.7.2-cp39-cp39-manylinux_2_17_x86_64.manylinux2014_x86_64.whl (85.5 MB)\n",
            "\u001b[2K     \u001b[90m━━━━━━━━━━━━━━━━━━━━━━━━━━━━━━━━━━━━━━━━\u001b[0m \u001b[32m85.5/85.5 MB\u001b[0m \u001b[31m11.3 MB/s\u001b[0m eta \u001b[36m0:00:00\u001b[0m\n",
            "\u001b[?25hCollecting fairseq\n",
            "  Downloading fairseq-0.12.2.tar.gz (9.6 MB)\n",
            "\u001b[2K     \u001b[90m━━━━━━━━━━━━━━━━━━━━━━━━━━━━━━━━━━━━━━━━\u001b[0m \u001b[32m9.6/9.6 MB\u001b[0m \u001b[31m114.1 MB/s\u001b[0m eta \u001b[36m0:00:00\u001b[0m\n",
            "\u001b[?25h  Installing build dependencies ... \u001b[?25l\u001b[?25hdone\n",
            "  Getting requirements to build wheel ... \u001b[?25l\u001b[?25hdone\n",
            "  Installing backend dependencies ... \u001b[?25l\u001b[?25hdone\n",
            "  Preparing metadata (pyproject.toml) ... \u001b[?25l\u001b[?25hdone\n",
            "Collecting gradio\n",
            "  Downloading gradio-3.27.0-py3-none-any.whl (17.3 MB)\n",
            "\u001b[2K     \u001b[90m━━━━━━━━━━━━━━━━━━━━━━━━━━━━━━━━━━━━━━━━\u001b[0m \u001b[32m17.3/17.3 MB\u001b[0m \u001b[31m30.6 MB/s\u001b[0m eta \u001b[36m0:00:00\u001b[0m\n",
            "\u001b[?25hCollecting ffmpeg\n",
            "  Downloading ffmpeg-1.4.tar.gz (5.1 kB)\n",
            "  Preparing metadata (setup.py) ... \u001b[?25l\u001b[?25hdone\n",
            "Collecting ffmpeg-python\n",
            "  Downloading ffmpeg_python-0.2.0-py3-none-any.whl (25 kB)\n",
            "Collecting praat-parselmouth\n",
            "  Downloading praat_parselmouth-0.4.3-cp39-cp39-manylinux_2_12_x86_64.manylinux2010_x86_64.whl (10.7 MB)\n",
            "\u001b[2K     \u001b[90m━━━━━━━━━━━━━━━━━━━━━━━━━━━━━━━━━━━━━━━\u001b[0m \u001b[32m10.7/10.7 MB\u001b[0m \u001b[31m105.1 MB/s\u001b[0m eta \u001b[36m0:00:00\u001b[0m\n",
            "\u001b[?25hCollecting pyworld\n",
            "  Downloading pyworld-0.3.2.tar.gz (214 kB)\n",
            "\u001b[2K     \u001b[90m━━━━━━━━━━━━━━━━━━━━━━━━━━━━━━━━━━━━━━\u001b[0m \u001b[32m214.4/214.4 kB\u001b[0m \u001b[31m25.0 MB/s\u001b[0m eta \u001b[36m0:00:00\u001b[0m\n",
            "\u001b[?25h  Installing build dependencies ... \u001b[?25l\u001b[?25hdone\n",
            "  Getting requirements to build wheel ... \u001b[?25l\u001b[?25hdone\n",
            "  Preparing metadata (pyproject.toml) ... \u001b[?25l\u001b[?25hdone\n",
            "Collecting numpy==1.23.5\n",
            "  Downloading numpy-1.23.5-cp39-cp39-manylinux_2_17_x86_64.manylinux2014_x86_64.whl (17.1 MB)\n",
            "\u001b[2K     \u001b[90m━━━━━━━━━━━━━━━━━━━━━━━━━━━━━━━━━━━━━━━━\u001b[0m \u001b[32m17.1/17.1 MB\u001b[0m \u001b[31m91.1 MB/s\u001b[0m eta \u001b[36m0:00:00\u001b[0m\n",
            "\u001b[?25hRequirement already satisfied: numba==0.56.4 in /usr/local/lib/python3.9/dist-packages (0.56.4)\n",
            "Collecting librosa==0.9.2\n",
            "  Downloading librosa-0.9.2-py3-none-any.whl (214 kB)\n",
            "\u001b[2K     \u001b[90m━━━━━━━━━━━━━━━━━━━━━━━━━━━━━━━━━━━━━━\u001b[0m \u001b[32m214.3/214.3 kB\u001b[0m \u001b[31m29.1 MB/s\u001b[0m eta \u001b[36m0:00:00\u001b[0m\n",
            "\u001b[?25hRequirement already satisfied: llvmlite<0.40,>=0.39.0dev0 in /usr/local/lib/python3.9/dist-packages (from numba==0.56.4) (0.39.1)\n",
            "Requirement already satisfied: setuptools in /usr/local/lib/python3.9/dist-packages (from numba==0.56.4) (67.6.1)\n",
            "Requirement already satisfied: audioread>=2.1.9 in /usr/local/lib/python3.9/dist-packages (from librosa==0.9.2) (3.0.0)\n",
            "Requirement already satisfied: scipy>=1.2.0 in /usr/local/lib/python3.9/dist-packages (from librosa==0.9.2) (1.10.1)\n",
            "Requirement already satisfied: scikit-learn>=0.19.1 in /usr/local/lib/python3.9/dist-packages (from librosa==0.9.2) (1.2.2)\n",
            "Requirement already satisfied: joblib>=0.14 in /usr/local/lib/python3.9/dist-packages (from librosa==0.9.2) (1.2.0)\n",
            "Requirement already satisfied: decorator>=4.0.10 in /usr/local/lib/python3.9/dist-packages (from librosa==0.9.2) (4.4.2)\n",
            "Collecting resampy>=0.2.2 (from librosa==0.9.2)\n",
            "  Downloading resampy-0.4.2-py3-none-any.whl (3.1 MB)\n",
            "\u001b[2K     \u001b[90m━━━━━━━━━━━━━━━━━━━━━━━━━━━━━━━━━━━━━━━━\u001b[0m \u001b[32m3.1/3.1 MB\u001b[0m \u001b[31m98.7 MB/s\u001b[0m eta \u001b[36m0:00:00\u001b[0m\n",
            "\u001b[?25hRequirement already satisfied: soundfile>=0.10.2 in /usr/local/lib/python3.9/dist-packages (from librosa==0.9.2) (0.12.1)\n",
            "Requirement already satisfied: pooch>=1.0 in /usr/local/lib/python3.9/dist-packages (from librosa==0.9.2) (1.6.0)\n",
            "Requirement already satisfied: packaging>=20.0 in /usr/local/lib/python3.9/dist-packages (from librosa==0.9.2) (23.0)\n",
            "Requirement already satisfied: cffi in /usr/local/lib/python3.9/dist-packages (from fairseq) (1.15.1)\n",
            "Requirement already satisfied: cython in /usr/local/lib/python3.9/dist-packages (from fairseq) (0.29.34)\n",
            "Collecting hydra-core<1.1,>=1.0.7 (from fairseq)\n",
            "  Downloading hydra_core-1.0.7-py3-none-any.whl (123 kB)\n",
            "\u001b[2K     \u001b[90m━━━━━━━━━━━━━━━━━━━━━━━━━━━━━━━━━━━━━━\u001b[0m \u001b[32m123.8/123.8 kB\u001b[0m \u001b[31m17.2 MB/s\u001b[0m eta \u001b[36m0:00:00\u001b[0m\n",
            "\u001b[?25hCollecting omegaconf<2.1 (from fairseq)\n",
            "  Downloading omegaconf-2.0.6-py3-none-any.whl (36 kB)\n",
            "Requirement already satisfied: regex in /usr/local/lib/python3.9/dist-packages (from fairseq) (2022.10.31)\n",
            "Collecting sacrebleu>=1.4.12 (from fairseq)\n",
            "  Downloading sacrebleu-2.3.1-py3-none-any.whl (118 kB)\n",
            "\u001b[2K     \u001b[90m━━━━━━━━━━━━━━━━━━━━━━━━━━━━━━━━━━━━━━\u001b[0m \u001b[32m118.9/118.9 kB\u001b[0m \u001b[31m12.3 MB/s\u001b[0m eta \u001b[36m0:00:00\u001b[0m\n",
            "\u001b[?25hRequirement already satisfied: torch in /usr/local/lib/python3.9/dist-packages (from fairseq) (2.0.0+cu118)\n",
            "Requirement already satisfied: tqdm in /usr/local/lib/python3.9/dist-packages (from fairseq) (4.65.0)\n",
            "Collecting bitarray (from fairseq)\n",
            "  Downloading bitarray-2.7.3-cp39-cp39-manylinux_2_17_x86_64.manylinux2014_x86_64.whl (269 kB)\n",
            "\u001b[2K     \u001b[90m━━━━━━━━━━━━━━━━━━━━━━━━━━━━━━━━━━━━━━\u001b[0m \u001b[32m269.6/269.6 kB\u001b[0m \u001b[31m32.0 MB/s\u001b[0m eta \u001b[36m0:00:00\u001b[0m\n",
            "\u001b[?25hRequirement already satisfied: torchaudio>=0.8.0 in /usr/local/lib/python3.9/dist-packages (from fairseq) (2.0.1+cu118)\n",
            "Collecting aiofiles (from gradio)\n",
            "  Downloading aiofiles-23.1.0-py3-none-any.whl (14 kB)\n",
            "Collecting aiohttp (from gradio)\n",
            "  Downloading aiohttp-3.8.4-cp39-cp39-manylinux_2_17_x86_64.manylinux2014_x86_64.whl (1.0 MB)\n",
            "\u001b[2K     \u001b[90m━━━━━━━━━━━━━━━━━━━━━━━━━━━━━━━━━━━━━━━━\u001b[0m \u001b[32m1.0/1.0 MB\u001b[0m \u001b[31m73.9 MB/s\u001b[0m eta \u001b[36m0:00:00\u001b[0m\n",
            "\u001b[?25hRequirement already satisfied: altair>=4.2.0 in /usr/local/lib/python3.9/dist-packages (from gradio) (4.2.2)\n",
            "Collecting fastapi (from gradio)\n",
            "  Downloading fastapi-0.95.1-py3-none-any.whl (56 kB)\n",
            "\u001b[2K     \u001b[90m━━━━━━━━━━━━━━━━━━━━━━━━━━━━━━━━━━━━━━━━\u001b[0m \u001b[32m57.0/57.0 kB\u001b[0m \u001b[31m1.8 MB/s\u001b[0m eta \u001b[36m0:00:00\u001b[0m\n",
            "\u001b[?25hCollecting ffmpy (from gradio)\n",
            "  Downloading ffmpy-0.3.0.tar.gz (4.8 kB)\n",
            "  Preparing metadata (setup.py) ... \u001b[?25l\u001b[?25hdone\n",
            "Collecting gradio-client>=0.1.3 (from gradio)\n",
            "  Downloading gradio_client-0.1.3-py3-none-any.whl (286 kB)\n",
            "\u001b[2K     \u001b[90m━━━━━━━━━━━━━━━━━━━━━━━━━━━━━━━━━━━━━━\u001b[0m \u001b[32m286.2/286.2 kB\u001b[0m \u001b[31m33.5 MB/s\u001b[0m eta \u001b[36m0:00:00\u001b[0m\n",
            "\u001b[?25hCollecting httpx (from gradio)\n",
            "  Downloading httpx-0.24.0-py3-none-any.whl (75 kB)\n",
            "\u001b[2K     \u001b[90m━━━━━━━━━━━━━━━━━━━━━━━━━━━━━━━━━━━━━━━━\u001b[0m \u001b[32m75.3/75.3 kB\u001b[0m \u001b[31m11.4 MB/s\u001b[0m eta \u001b[36m0:00:00\u001b[0m\n",
            "\u001b[?25hCollecting huggingface-hub>=0.13.0 (from gradio)\n",
            "  Downloading huggingface_hub-0.13.4-py3-none-any.whl (200 kB)\n",
            "\u001b[2K     \u001b[90m━━━━━━━━━━━━━━━━━━━━━━━━━━━━━━━━━━━━━━\u001b[0m \u001b[32m200.1/200.1 kB\u001b[0m \u001b[31m27.0 MB/s\u001b[0m eta \u001b[36m0:00:00\u001b[0m\n",
            "\u001b[?25hRequirement already satisfied: jinja2 in /usr/local/lib/python3.9/dist-packages (from gradio) (3.1.2)\n",
            "Requirement already satisfied: markdown-it-py[linkify]>=2.0.0 in /usr/local/lib/python3.9/dist-packages (from gradio) (2.2.0)\n",
            "Requirement already satisfied: markupsafe in /usr/local/lib/python3.9/dist-packages (from gradio) (2.1.2)\n",
            "Requirement already satisfied: matplotlib in /usr/local/lib/python3.9/dist-packages (from gradio) (3.7.1)\n",
            "Collecting mdit-py-plugins<=0.3.3 (from gradio)\n",
            "  Downloading mdit_py_plugins-0.3.3-py3-none-any.whl (50 kB)\n",
            "\u001b[2K     \u001b[90m━━━━━━━━━━━━━━━━━━━━━━━━━━━━━━━━━━━━━━━━\u001b[0m \u001b[32m50.5/50.5 kB\u001b[0m \u001b[31m7.6 MB/s\u001b[0m eta \u001b[36m0:00:00\u001b[0m\n",
            "\u001b[?25hCollecting orjson (from gradio)\n",
            "  Downloading orjson-3.8.10-cp39-cp39-manylinux_2_28_x86_64.whl (140 kB)\n",
            "\u001b[2K     \u001b[90m━━━━━━━━━━━━━━━━━━━━━━━━━━━━━━━━━━━━━━\u001b[0m \u001b[32m140.5/140.5 kB\u001b[0m \u001b[31m17.2 MB/s\u001b[0m eta \u001b[36m0:00:00\u001b[0m\n",
            "\u001b[?25hRequirement already satisfied: pandas in /usr/local/lib/python3.9/dist-packages (from gradio) (1.5.3)\n",
            "Requirement already satisfied: pillow in /usr/local/lib/python3.9/dist-packages (from gradio) (8.4.0)\n",
            "Requirement already satisfied: pydantic in /usr/local/lib/python3.9/dist-packages (from gradio) (1.10.7)\n",
            "Collecting pydub (from gradio)\n",
            "  Downloading pydub-0.25.1-py2.py3-none-any.whl (32 kB)\n",
            "Collecting python-multipart (from gradio)\n",
            "  Downloading python_multipart-0.0.6-py3-none-any.whl (45 kB)\n",
            "\u001b[2K     \u001b[90m━━━━━━━━━━━━━━━━━━━━━━━━━━━━━━━━━━━━━━━━\u001b[0m \u001b[32m45.7/45.7 kB\u001b[0m \u001b[31m6.8 MB/s\u001b[0m eta \u001b[36m0:00:00\u001b[0m\n",
            "\u001b[?25hRequirement already satisfied: pyyaml in /usr/local/lib/python3.9/dist-packages (from gradio) (6.0)\n",
            "Requirement already satisfied: requests in /usr/local/lib/python3.9/dist-packages (from gradio) (2.27.1)\n",
            "Collecting semantic-version (from gradio)\n",
            "  Downloading semantic_version-2.10.0-py2.py3-none-any.whl (15 kB)\n",
            "Requirement already satisfied: typing-extensions in /usr/local/lib/python3.9/dist-packages (from gradio) (4.5.0)\n",
            "Collecting uvicorn (from gradio)\n",
            "  Downloading uvicorn-0.21.1-py3-none-any.whl (57 kB)\n",
            "\u001b[2K     \u001b[90m━━━━━━━━━━━━━━━━━━━━━━━━━━━━━━━━━━━━━━━━\u001b[0m \u001b[32m57.8/57.8 kB\u001b[0m \u001b[31m9.1 MB/s\u001b[0m eta \u001b[36m0:00:00\u001b[0m\n",
            "\u001b[?25hCollecting websockets>=10.0 (from gradio)\n",
            "  Downloading websockets-11.0.1-cp39-cp39-manylinux_2_5_x86_64.manylinux1_x86_64.manylinux_2_17_x86_64.manylinux2014_x86_64.whl (129 kB)\n",
            "\u001b[2K     \u001b[90m━━━━━━━━━━━━━━━━━━━━━━━━━━━━━━━━━━━━━━\u001b[0m \u001b[32m129.5/129.5 kB\u001b[0m \u001b[31m18.7 MB/s\u001b[0m eta \u001b[36m0:00:00\u001b[0m\n",
            "\u001b[?25hRequirement already satisfied: future in /usr/local/lib/python3.9/dist-packages (from ffmpeg-python) (0.18.3)\n",
            "Requirement already satisfied: entrypoints in /usr/local/lib/python3.9/dist-packages (from altair>=4.2.0->gradio) (0.4)\n",
            "Requirement already satisfied: jsonschema>=3.0 in /usr/local/lib/python3.9/dist-packages (from altair>=4.2.0->gradio) (4.3.3)\n",
            "Requirement already satisfied: toolz in /usr/local/lib/python3.9/dist-packages (from altair>=4.2.0->gradio) (0.12.0)\n",
            "Requirement already satisfied: fsspec in /usr/local/lib/python3.9/dist-packages (from gradio-client>=0.1.3->gradio) (2023.4.0)\n",
            "Requirement already satisfied: filelock in /usr/local/lib/python3.9/dist-packages (from huggingface-hub>=0.13.0->gradio) (3.11.0)\n",
            "Collecting antlr4-python3-runtime==4.8 (from hydra-core<1.1,>=1.0.7->fairseq)\n",
            "  Downloading antlr4-python3-runtime-4.8.tar.gz (112 kB)\n",
            "\u001b[2K     \u001b[90m━━━━━━━━━━━━━━━━━━━━━━━━━━━━━━━━━━━━━━\u001b[0m \u001b[32m112.4/112.4 kB\u001b[0m \u001b[31m15.7 MB/s\u001b[0m eta \u001b[36m0:00:00\u001b[0m\n",
            "\u001b[?25h  Preparing metadata (setup.py) ... \u001b[?25l\u001b[?25hdone\n",
            "Requirement already satisfied: mdurl~=0.1 in /usr/local/lib/python3.9/dist-packages (from markdown-it-py[linkify]>=2.0.0->gradio) (0.1.2)\n",
            "Collecting linkify-it-py<3,>=1 (from markdown-it-py[linkify]>=2.0.0->gradio)\n",
            "  Downloading linkify_it_py-2.0.0-py3-none-any.whl (19 kB)\n",
            "Requirement already satisfied: python-dateutil>=2.8.1 in /usr/local/lib/python3.9/dist-packages (from pandas->gradio) (2.8.2)\n",
            "Requirement already satisfied: pytz>=2020.1 in /usr/local/lib/python3.9/dist-packages (from pandas->gradio) (2022.7.1)\n",
            "Requirement already satisfied: appdirs>=1.3.0 in /usr/local/lib/python3.9/dist-packages (from pooch>=1.0->librosa==0.9.2) (1.4.4)\n",
            "Requirement already satisfied: urllib3<1.27,>=1.21.1 in /usr/local/lib/python3.9/dist-packages (from requests->gradio) (1.26.15)\n",
            "Requirement already satisfied: certifi>=2017.4.17 in /usr/local/lib/python3.9/dist-packages (from requests->gradio) (2022.12.7)\n",
            "Requirement already satisfied: charset-normalizer~=2.0.0 in /usr/local/lib/python3.9/dist-packages (from requests->gradio) (2.0.12)\n",
            "Requirement already satisfied: idna<4,>=2.5 in /usr/local/lib/python3.9/dist-packages (from requests->gradio) (3.4)\n",
            "Collecting portalocker (from sacrebleu>=1.4.12->fairseq)\n",
            "  Downloading portalocker-2.7.0-py2.py3-none-any.whl (15 kB)\n",
            "Requirement already satisfied: tabulate>=0.8.9 in /usr/local/lib/python3.9/dist-packages (from sacrebleu>=1.4.12->fairseq) (0.8.10)\n",
            "Collecting colorama (from sacrebleu>=1.4.12->fairseq)\n",
            "  Downloading colorama-0.4.6-py2.py3-none-any.whl (25 kB)\n",
            "Requirement already satisfied: lxml in /usr/local/lib/python3.9/dist-packages (from sacrebleu>=1.4.12->fairseq) (4.9.2)\n",
            "Requirement already satisfied: threadpoolctl>=2.0.0 in /usr/local/lib/python3.9/dist-packages (from scikit-learn>=0.19.1->librosa==0.9.2) (3.1.0)\n",
            "Requirement already satisfied: pycparser in /usr/local/lib/python3.9/dist-packages (from cffi->fairseq) (2.21)\n",
            "Requirement already satisfied: sympy in /usr/local/lib/python3.9/dist-packages (from torch->fairseq) (1.11.1)\n",
            "Requirement already satisfied: networkx in /usr/local/lib/python3.9/dist-packages (from torch->fairseq) (3.1)\n",
            "Requirement already satisfied: triton==2.0.0 in /usr/local/lib/python3.9/dist-packages (from torch->fairseq) (2.0.0)\n",
            "Requirement already satisfied: cmake in /usr/local/lib/python3.9/dist-packages (from triton==2.0.0->torch->fairseq) (3.25.2)\n",
            "Requirement already satisfied: lit in /usr/local/lib/python3.9/dist-packages (from triton==2.0.0->torch->fairseq) (16.0.1)\n",
            "Requirement already satisfied: attrs>=17.3.0 in /usr/local/lib/python3.9/dist-packages (from aiohttp->gradio) (22.2.0)\n",
            "Collecting multidict<7.0,>=4.5 (from aiohttp->gradio)\n",
            "  Downloading multidict-6.0.4-cp39-cp39-manylinux_2_17_x86_64.manylinux2014_x86_64.whl (114 kB)\n",
            "\u001b[2K     \u001b[90m━━━━━━━━━━━━━━━━━━━━━━━━━━━━━━━━━━━━━━\u001b[0m \u001b[32m114.2/114.2 kB\u001b[0m \u001b[31m15.5 MB/s\u001b[0m eta \u001b[36m0:00:00\u001b[0m\n",
            "\u001b[?25hCollecting async-timeout<5.0,>=4.0.0a3 (from aiohttp->gradio)\n",
            "  Downloading async_timeout-4.0.2-py3-none-any.whl (5.8 kB)\n",
            "Collecting yarl<2.0,>=1.0 (from aiohttp->gradio)\n",
            "  Downloading yarl-1.8.2-cp39-cp39-manylinux_2_17_x86_64.manylinux2014_x86_64.whl (264 kB)\n",
            "\u001b[2K     \u001b[90m━━━━━━━━━━━━━━━━━━━━━━━━━━━━━━━━━━━━━━\u001b[0m \u001b[32m264.6/264.6 kB\u001b[0m \u001b[31m33.7 MB/s\u001b[0m eta \u001b[36m0:00:00\u001b[0m\n",
            "\u001b[?25hCollecting frozenlist>=1.1.1 (from aiohttp->gradio)\n",
            "  Downloading frozenlist-1.3.3-cp39-cp39-manylinux_2_5_x86_64.manylinux1_x86_64.manylinux_2_17_x86_64.manylinux2014_x86_64.whl (158 kB)\n",
            "\u001b[2K     \u001b[90m━━━━━━━━━━━━━━━━━━━━━━━━━━━━━━━━━━━━━━\u001b[0m \u001b[32m158.8/158.8 kB\u001b[0m \u001b[31m23.7 MB/s\u001b[0m eta \u001b[36m0:00:00\u001b[0m\n",
            "\u001b[?25hCollecting aiosignal>=1.1.2 (from aiohttp->gradio)\n",
            "  Downloading aiosignal-1.3.1-py3-none-any.whl (7.6 kB)\n",
            "Collecting starlette<0.27.0,>=0.26.1 (from fastapi->gradio)\n",
            "  Downloading starlette-0.26.1-py3-none-any.whl (66 kB)\n",
            "\u001b[2K     \u001b[90m━━━━━━━━━━━━━━━━━━━━━━━━━━━━━━━━━━━━━━━━\u001b[0m \u001b[32m66.9/66.9 kB\u001b[0m \u001b[31m10.2 MB/s\u001b[0m eta \u001b[36m0:00:00\u001b[0m\n",
            "\u001b[?25hCollecting httpcore<0.18.0,>=0.15.0 (from httpx->gradio)\n",
            "  Downloading httpcore-0.17.0-py3-none-any.whl (70 kB)\n",
            "\u001b[2K     \u001b[90m━━━━━━━━━━━━━━━━━━━━━━━━━━━━━━━━━━━━━━━━\u001b[0m \u001b[32m70.6/70.6 kB\u001b[0m \u001b[31m10.6 MB/s\u001b[0m eta \u001b[36m0:00:00\u001b[0m\n",
            "\u001b[?25hRequirement already satisfied: sniffio in /usr/local/lib/python3.9/dist-packages (from httpx->gradio) (1.3.0)\n",
            "Requirement already satisfied: contourpy>=1.0.1 in /usr/local/lib/python3.9/dist-packages (from matplotlib->gradio) (1.0.7)\n",
            "Requirement already satisfied: cycler>=0.10 in /usr/local/lib/python3.9/dist-packages (from matplotlib->gradio) (0.11.0)\n",
            "Requirement already satisfied: fonttools>=4.22.0 in /usr/local/lib/python3.9/dist-packages (from matplotlib->gradio) (4.39.3)\n",
            "Requirement already satisfied: kiwisolver>=1.0.1 in /usr/local/lib/python3.9/dist-packages (from matplotlib->gradio) (1.4.4)\n",
            "Requirement already satisfied: pyparsing>=2.3.1 in /usr/local/lib/python3.9/dist-packages (from matplotlib->gradio) (3.0.9)\n",
            "Requirement already satisfied: importlib-resources>=3.2.0 in /usr/local/lib/python3.9/dist-packages (from matplotlib->gradio) (5.12.0)\n",
            "Requirement already satisfied: click>=7.0 in /usr/local/lib/python3.9/dist-packages (from uvicorn->gradio) (8.1.3)\n",
            "Collecting h11>=0.8 (from uvicorn->gradio)\n",
            "  Downloading h11-0.14.0-py3-none-any.whl (58 kB)\n",
            "\u001b[2K     \u001b[90m━━━━━━━━━━━━━━━━━━━━━━━━━━━━━━━━━━━━━━━━\u001b[0m \u001b[32m58.3/58.3 kB\u001b[0m \u001b[31m9.2 MB/s\u001b[0m eta \u001b[36m0:00:00\u001b[0m\n",
            "\u001b[?25hRequirement already satisfied: anyio<5.0,>=3.0 in /usr/local/lib/python3.9/dist-packages (from httpcore<0.18.0,>=0.15.0->httpx->gradio) (3.6.2)\n",
            "Requirement already satisfied: zipp>=3.1.0 in /usr/local/lib/python3.9/dist-packages (from importlib-resources>=3.2.0->matplotlib->gradio) (3.15.0)\n",
            "Requirement already satisfied: pyrsistent!=0.17.0,!=0.17.1,!=0.17.2,>=0.14.0 in /usr/local/lib/python3.9/dist-packages (from jsonschema>=3.0->altair>=4.2.0->gradio) (0.19.3)\n",
            "Collecting uc-micro-py (from linkify-it-py<3,>=1->markdown-it-py[linkify]>=2.0.0->gradio)\n",
            "  Downloading uc_micro_py-1.0.1-py3-none-any.whl (6.2 kB)\n",
            "Requirement already satisfied: six>=1.5 in /usr/local/lib/python3.9/dist-packages (from python-dateutil>=2.8.1->pandas->gradio) (1.16.0)\n",
            "Requirement already satisfied: mpmath>=0.19 in /usr/local/lib/python3.9/dist-packages (from sympy->torch->fairseq) (1.3.0)\n",
            "Building wheels for collected packages: fairseq, ffmpeg, pyworld, antlr4-python3-runtime, ffmpy\n",
            "  Building wheel for fairseq (pyproject.toml) ... \u001b[?25l\u001b[?25hdone\n",
            "  Created wheel for fairseq: filename=fairseq-0.12.2-cp39-cp39-linux_x86_64.whl size=11180079 sha256=7bc0eb5c319c9e2da79caa64f2490572b86d3c5469c27a155202019a9c055fe7\n",
            "  Stored in directory: /root/.cache/pip/wheels/59/35/87/2baf2e4ad37c83fd698c486b3d39f0e7022226fa52ab469c31\n",
            "  Building wheel for ffmpeg (setup.py) ... \u001b[?25l\u001b[?25hdone\n",
            "  Created wheel for ffmpeg: filename=ffmpeg-1.4-py3-none-any.whl size=6083 sha256=29c792760058cd31860ca3b8a242305f0adc71d8b477c0aa41bfa3f2a8b4e097\n",
            "  Stored in directory: /root/.cache/pip/wheels/1d/57/24/4eff6a03a9ea0e647568e8a5a0546cdf957e3cf005372c0245\n",
            "  Building wheel for pyworld (pyproject.toml) ... \u001b[?25l\u001b[?25hdone\n",
            "  Created wheel for pyworld: filename=pyworld-0.3.2-cp39-cp39-linux_x86_64.whl size=895643 sha256=baf72e2b92eb6458479fcaa696fc751c5045ee8f46074ee4c5b1250d1a576dd9\n",
            "  Stored in directory: /root/.cache/pip/wheels/c5/91/01/58aa68f1f055ce534049e668292b710500100da0262079b8f5\n",
            "  Building wheel for antlr4-python3-runtime (setup.py) ... \u001b[?25l\u001b[?25hdone\n",
            "  Created wheel for antlr4-python3-runtime: filename=antlr4_python3_runtime-4.8-py3-none-any.whl size=141229 sha256=4c8351eed841af6fa21d3492708c77be7a9fcb9aadb1720171d18d54927cc63a\n",
            "  Stored in directory: /root/.cache/pip/wheels/42/3c/ae/14db087e6018de74810afe32eb6ac890ef9c68ba19b00db97a\n",
            "  Building wheel for ffmpy (setup.py) ... \u001b[?25l\u001b[?25hdone\n",
            "  Created wheel for ffmpy: filename=ffmpy-0.3.0-py3-none-any.whl size=4707 sha256=f3de4cf59993447792b5734ba38c075da6550d195acc2d158eb799335deeb68c\n",
            "  Stored in directory: /root/.cache/pip/wheels/91/e2/96/f676aa08bfd789328c6576cd0f1fde4a3d686703bb0c247697\n",
            "Successfully built fairseq ffmpeg pyworld antlr4-python3-runtime ffmpy\n",
            "Installing collected packages: pydub, ffmpy, ffmpeg, faiss-gpu, bitarray, antlr4-python3-runtime, websockets, uc-micro-py, semantic-version, python-multipart, portalocker, orjson, omegaconf, numpy, multidict, h11, frozenlist, ffmpeg-python, colorama, async-timeout, aiofiles, yarl, uvicorn, starlette, sacrebleu, pyworld, praat-parselmouth, mdit-py-plugins, linkify-it-py, hydra-core, huggingface-hub, httpcore, aiosignal, resampy, httpx, fastapi, aiohttp, librosa, gradio-client, gradio, fairseq\n",
            "  Attempting uninstall: numpy\n",
            "    Found existing installation: numpy 1.22.4\n",
            "    Uninstalling numpy-1.22.4:\n",
            "      Successfully uninstalled numpy-1.22.4\n",
            "  Attempting uninstall: librosa\n",
            "    Found existing installation: librosa 0.10.0.post2\n",
            "    Uninstalling librosa-0.10.0.post2:\n",
            "      Successfully uninstalled librosa-0.10.0.post2\n",
            "Successfully installed aiofiles-23.1.0 aiohttp-3.8.4 aiosignal-1.3.1 antlr4-python3-runtime-4.8 async-timeout-4.0.2 bitarray-2.7.3 colorama-0.4.6 fairseq-0.12.2 faiss-gpu-1.7.2 fastapi-0.95.1 ffmpeg-1.4 ffmpeg-python-0.2.0 ffmpy-0.3.0 frozenlist-1.3.3 gradio-3.27.0 gradio-client-0.1.3 h11-0.14.0 httpcore-0.17.0 httpx-0.24.0 huggingface-hub-0.13.4 hydra-core-1.0.7 librosa-0.9.2 linkify-it-py-2.0.0 mdit-py-plugins-0.3.3 multidict-6.0.4 numpy-1.23.5 omegaconf-2.0.6 orjson-3.8.10 portalocker-2.7.0 praat-parselmouth-0.4.3 pydub-0.25.1 python-multipart-0.0.6 pyworld-0.3.2 resampy-0.4.2 sacrebleu-2.3.1 semantic-version-2.10.0 starlette-0.26.1 uc-micro-py-1.0.1 uvicorn-0.21.1 websockets-11.0.1 yarl-1.8.2\n",
            "\u001b[33mWARNING: Running pip as the 'root' user can result in broken permissions and conflicting behaviour with the system package manager. It is recommended to use a virtual environment instead: https://pip.pypa.io/warnings/venv\u001b[0m\u001b[33m\n",
            "\u001b[0m"
          ]
        },
        {
          "output_type": "display_data",
          "data": {
            "application/vnd.colab-display-data+json": {
              "pip_warning": {
                "packages": [
                  "numpy"
                ]
              }
            }
          },
          "metadata": {}
        }
      ]
    },
    {
      "cell_type": "markdown",
      "source": [
        "# **【手順３：RVC WebUIのリポジトリをクローン】**<br>\n",
        "GitHubから「Retrieval-based-Voice-Conversion-WebUI」のプログラムをGoogle Colaboratoryにコピーします。<br>\n"
      ],
      "metadata": {
        "id": "TOz9ipJAicp1"
      }
    },
    {
      "cell_type": "code",
      "source": [
        "!git clone --depth=1 -b stable https://github.com/fumiama/Retrieval-based-Voice-Conversion-WebUI\n",
        "%cd /content/Retrieval-based-Voice-Conversion-WebUI\n",
        "!mkdir -p pretrained uvr5_weights"
      ],
      "metadata": {
        "colab": {
          "base_uri": "https://localhost:8080/"
        },
        "id": "XB4KyNBjikyF",
        "outputId": "ab217732-bf93-4ce3-9025-3c1207ad962b"
      },
      "execution_count": null,
      "outputs": [
        {
          "output_type": "stream",
          "name": "stdout",
          "text": [
            "Cloning into 'Retrieval-based-Voice-Conversion-WebUI'...\n",
            "remote: Enumerating objects: 112, done.\u001b[K\n",
            "remote: Counting objects: 100% (112/112), done.\u001b[K\n",
            "remote: Compressing objects: 100% (77/77), done.\u001b[K\n",
            "remote: Total 112 (delta 28), reused 80 (delta 27), pack-reused 0\u001b[K\n",
            "Receiving objects: 100% (112/112), 839.91 KiB | 5.67 MiB/s, done.\n",
            "Resolving deltas: 100% (28/28), done.\n",
            "/content/Retrieval-based-Voice-Conversion-WebUI\n"
          ]
        }
      ]
    },
    {
      "cell_type": "markdown",
      "source": [
        "# **【手順４：最新の状態に更新】**"
      ],
      "metadata": {
        "id": "9Z2KUaTqjiug"
      }
    },
    {
      "cell_type": "code",
      "source": [
        "!git pull"
      ],
      "metadata": {
        "colab": {
          "base_uri": "https://localhost:8080/"
        },
        "id": "i15GWuhvjpbl",
        "outputId": "1d12ecaf-fe06-4c3c-8c95-906df1c346ac"
      },
      "execution_count": null,
      "outputs": [
        {
          "output_type": "stream",
          "name": "stdout",
          "text": [
            "Already up to date.\n"
          ]
        }
      ]
    },
    {
      "cell_type": "markdown",
      "source": [
        "# **【手順５：事前学習モデルなどの準備】**"
      ],
      "metadata": {
        "id": "zi0YMWl6kodB"
      }
    },
    {
      "cell_type": "code",
      "source": [
        "!apt -y install -qq aria2\n",
        "\n",
        "!aria2c --console-log-level=error -c -x 16 -s 16 -k 1M https://huggingface.co/lj1995/VoiceConversionWebUI/resolve/main/pretrained/D32k.pth -d /content/Retrieval-based-Voice-Conversion-WebUI/pretrained -o D32k.pth\n",
        "!aria2c --console-log-level=error -c -x 16 -s 16 -k 1M https://huggingface.co/lj1995/VoiceConversionWebUI/resolve/main/pretrained/D40k.pth -d /content/Retrieval-based-Voice-Conversion-WebUI/pretrained -o D40k.pth\n",
        "!aria2c --console-log-level=error -c -x 16 -s 16 -k 1M https://huggingface.co/lj1995/VoiceConversionWebUI/resolve/main/pretrained/D48k.pth -d /content/Retrieval-based-Voice-Conversion-WebUI/pretrained -o D48k.pth\n",
        "!aria2c --console-log-level=error -c -x 16 -s 16 -k 1M https://huggingface.co/lj1995/VoiceConversionWebUI/resolve/main/pretrained/G32k.pth -d /content/Retrieval-based-Voice-Conversion-WebUI/pretrained -o G32k.pth\n",
        "!aria2c --console-log-level=error -c -x 16 -s 16 -k 1M https://huggingface.co/lj1995/VoiceConversionWebUI/resolve/main/pretrained/G40k.pth -d /content/Retrieval-based-Voice-Conversion-WebUI/pretrained -o G40k.pth\n",
        "!aria2c --console-log-level=error -c -x 16 -s 16 -k 1M https://huggingface.co/lj1995/VoiceConversionWebUI/resolve/main/pretrained/G48k.pth -d /content/Retrieval-based-Voice-Conversion-WebUI/pretrained -o G48k.pth\n",
        "!aria2c --console-log-level=error -c -x 16 -s 16 -k 1M https://huggingface.co/lj1995/VoiceConversionWebUI/resolve/main/pretrained/f0D32k.pth -d /content/Retrieval-based-Voice-Conversion-WebUI/pretrained -o f0D32k.pth\n",
        "!aria2c --console-log-level=error -c -x 16 -s 16 -k 1M https://huggingface.co/lj1995/VoiceConversionWebUI/resolve/main/pretrained/f0D40k.pth -d /content/Retrieval-based-Voice-Conversion-WebUI/pretrained -o f0D40k.pth\n",
        "!aria2c --console-log-level=error -c -x 16 -s 16 -k 1M https://huggingface.co/lj1995/VoiceConversionWebUI/resolve/main/pretrained/f0D48k.pth -d /content/Retrieval-based-Voice-Conversion-WebUI/pretrained -o f0D48k.pth\n",
        "!aria2c --console-log-level=error -c -x 16 -s 16 -k 1M https://huggingface.co/lj1995/VoiceConversionWebUI/resolve/main/pretrained/f0G32k.pth -d /content/Retrieval-based-Voice-Conversion-WebUI/pretrained -o f0G32k.pth\n",
        "!aria2c --console-log-level=error -c -x 16 -s 16 -k 1M https://huggingface.co/lj1995/VoiceConversionWebUI/resolve/main/pretrained/f0G40k.pth -d /content/Retrieval-based-Voice-Conversion-WebUI/pretrained -o f0G40k.pth\n",
        "!aria2c --console-log-level=error -c -x 16 -s 16 -k 1M https://huggingface.co/lj1995/VoiceConversionWebUI/resolve/main/pretrained/f0G48k.pth -d /content/Retrieval-based-Voice-Conversion-WebUI/pretrained -o f0G48k.pth\n",
        "\n",
        "#音源分離の学習モデル\n",
        "!aria2c --console-log-level=error -c -x 16 -s 16 -k 1M https://huggingface.co/lj1995/VoiceConversionWebUI/resolve/main/uvr5_weights/HP2-人声vocals+非人声instrumentals.pth -d /content/Retrieval-based-Voice-Conversion-WebUI/uvr5_weights -o HP2-人声vocals+非人声instrumentals.pth\n",
        "!aria2c --console-log-level=error -c -x 16 -s 16 -k 1M https://huggingface.co/lj1995/VoiceConversionWebUI/resolve/main/uvr5_weights/HP5-主旋律人声vocals+其他instrumentals.pth -d /content/Retrieval-based-Voice-Conversion-WebUI/uvr5_weights -o HP5-主旋律人声vocals+其他instrumentals.pth"
      ],
      "metadata": {
        "colab": {
          "base_uri": "https://localhost:8080/"
        },
        "id": "EKS1RXOfkYkb",
        "outputId": "891ce4c3-3bb9-46a1-854b-64ed4fdbce1e"
      },
      "execution_count": null,
      "outputs": [
        {
          "output_type": "stream",
          "name": "stdout",
          "text": [
            "The following additional packages will be installed:\n",
            "  libaria2-0 libc-ares2\n",
            "The following NEW packages will be installed:\n",
            "  aria2 libaria2-0 libc-ares2\n",
            "0 upgraded, 3 newly installed, 0 to remove and 24 not upgraded.\n",
            "Need to get 1,475 kB of archives.\n",
            "After this operation, 5,959 kB of additional disk space will be used.\n",
            "Selecting previously unselected package libc-ares2:amd64.\n",
            "(Reading database ... 122349 files and directories currently installed.)\n",
            "Preparing to unpack .../libc-ares2_1.15.0-1ubuntu0.2_amd64.deb ...\n",
            "Unpacking libc-ares2:amd64 (1.15.0-1ubuntu0.2) ...\n",
            "Selecting previously unselected package libaria2-0:amd64.\n",
            "Preparing to unpack .../libaria2-0_1.35.0-1build1_amd64.deb ...\n",
            "Unpacking libaria2-0:amd64 (1.35.0-1build1) ...\n",
            "Selecting previously unselected package aria2.\n",
            "Preparing to unpack .../aria2_1.35.0-1build1_amd64.deb ...\n",
            "Unpacking aria2 (1.35.0-1build1) ...\n",
            "Setting up libc-ares2:amd64 (1.15.0-1ubuntu0.2) ...\n",
            "Setting up libaria2-0:amd64 (1.35.0-1build1) ...\n",
            "Setting up aria2 (1.35.0-1build1) ...\n",
            "Processing triggers for man-db (2.9.1-1) ...\n",
            "Processing triggers for libc-bin (2.31-0ubuntu9.9) ...\n",
            "\n",
            "Download Results:\n",
            "gid   |stat|avg speed  |path/URI\n",
            "======+====+===========+=======================================================\n",
            "8eef1e|\u001b[1;32mOK\u001b[0m  |   197MiB/s|/content/Retrieval-based-Voice-Conversion-WebUI/pretrained/D32k.pth\n",
            "\n",
            "Status Legend:\n",
            "(OK):download completed.\n",
            "\n",
            "Download Results:\n",
            "gid   |stat|avg speed  |path/URI\n",
            "======+====+===========+=======================================================\n",
            "eb4991|\u001b[1;32mOK\u001b[0m  |   166MiB/s|/content/Retrieval-based-Voice-Conversion-WebUI/pretrained/D40k.pth\n",
            "\n",
            "Status Legend:\n",
            "(OK):download completed.\n",
            "\n",
            "Download Results:\n",
            "gid   |stat|avg speed  |path/URI\n",
            "======+====+===========+=======================================================\n",
            "fde86a|\u001b[1;32mOK\u001b[0m  |   179MiB/s|/content/Retrieval-based-Voice-Conversion-WebUI/pretrained/D48k.pth\n",
            "\n",
            "Status Legend:\n",
            "(OK):download completed.\n",
            "\n",
            "Download Results:\n",
            "gid   |stat|avg speed  |path/URI\n",
            "======+====+===========+=======================================================\n",
            "829af3|\u001b[1;32mOK\u001b[0m  |   142MiB/s|/content/Retrieval-based-Voice-Conversion-WebUI/pretrained/G32k.pth\n",
            "\n",
            "Status Legend:\n",
            "(OK):download completed.\n",
            "\n",
            "Download Results:\n",
            "gid   |stat|avg speed  |path/URI\n",
            "======+====+===========+=======================================================\n",
            "62bcdb|\u001b[1;32mOK\u001b[0m  |   143MiB/s|/content/Retrieval-based-Voice-Conversion-WebUI/pretrained/G40k.pth\n",
            "\n",
            "Status Legend:\n",
            "(OK):download completed.\n",
            "\n",
            "Download Results:\n",
            "gid   |stat|avg speed  |path/URI\n",
            "======+====+===========+=======================================================\n",
            "95b157|\u001b[1;32mOK\u001b[0m  |   135MiB/s|/content/Retrieval-based-Voice-Conversion-WebUI/pretrained/G48k.pth\n",
            "\n",
            "Status Legend:\n",
            "(OK):download completed.\n",
            "\n",
            "Download Results:\n",
            "gid   |stat|avg speed  |path/URI\n",
            "======+====+===========+=======================================================\n",
            "145b3c|\u001b[1;32mOK\u001b[0m  |   191MiB/s|/content/Retrieval-based-Voice-Conversion-WebUI/pretrained/f0D32k.pth\n",
            "\n",
            "Status Legend:\n",
            "(OK):download completed.\n",
            "\n",
            "Download Results:\n",
            "gid   |stat|avg speed  |path/URI\n",
            "======+====+===========+=======================================================\n",
            "805fa1|\u001b[1;32mOK\u001b[0m  |   165MiB/s|/content/Retrieval-based-Voice-Conversion-WebUI/pretrained/f0D40k.pth\n",
            "\n",
            "Status Legend:\n",
            "(OK):download completed.\n",
            "\n",
            "Download Results:\n",
            "gid   |stat|avg speed  |path/URI\n",
            "======+====+===========+=======================================================\n",
            "8748d7|\u001b[1;32mOK\u001b[0m  |   130MiB/s|/content/Retrieval-based-Voice-Conversion-WebUI/pretrained/f0D48k.pth\n",
            "\n",
            "Status Legend:\n",
            "(OK):download completed.\n",
            "\n",
            "Download Results:\n",
            "gid   |stat|avg speed  |path/URI\n",
            "======+====+===========+=======================================================\n",
            "df5508|\u001b[1;32mOK\u001b[0m  |   164MiB/s|/content/Retrieval-based-Voice-Conversion-WebUI/pretrained/f0G32k.pth\n",
            "\n",
            "Status Legend:\n",
            "(OK):download completed.\n",
            "\n",
            "Download Results:\n",
            "gid   |stat|avg speed  |path/URI\n",
            "======+====+===========+=======================================================\n",
            "05977c|\u001b[1;32mOK\u001b[0m  |   134MiB/s|/content/Retrieval-based-Voice-Conversion-WebUI/pretrained/f0G40k.pth\n",
            "\n",
            "Status Legend:\n",
            "(OK):download completed.\n",
            "\n",
            "Download Results:\n",
            "gid   |stat|avg speed  |path/URI\n",
            "======+====+===========+=======================================================\n",
            "eb4479|\u001b[1;32mOK\u001b[0m  |   168MiB/s|/content/Retrieval-based-Voice-Conversion-WebUI/pretrained/f0G48k.pth\n",
            "\n",
            "Status Legend:\n",
            "(OK):download completed.\n",
            "\n",
            "Download Results:\n",
            "gid   |stat|avg speed  |path/URI\n",
            "======+====+===========+=======================================================\n",
            "6c38a6|\u001b[1;32mOK\u001b[0m  |   156MiB/s|/content/Retrieval-based-Voice-Conversion-WebUI/uvr5_weights/HP2-人声vocals+非人声instrumentals.pth\n",
            "\n",
            "Status Legend:\n",
            "(OK):download completed.\n",
            "\n",
            "Download Results:\n",
            "gid   |stat|avg speed  |path/URI\n",
            "======+====+===========+=======================================================\n",
            "fb5122|\u001b[1;32mOK\u001b[0m  |   150MiB/s|/content/Retrieval-based-Voice-Conversion-WebUI/uvr5_weights/HP5-主旋律人声vocals+其他instrumentals.pth\n",
            "\n",
            "Status Legend:\n",
            "(OK):download completed.\n"
          ]
        }
      ]
    },
    {
      "cell_type": "markdown",
      "source": [
        "# **【手順６：hubert_base.ptのダウンロード】**"
      ],
      "metadata": {
        "id": "UwsFZP4vnfFz"
      }
    },
    {
      "cell_type": "code",
      "source": [
        "!aria2c --console-log-level=error -c -x 16 -s 16 -k 1M https://huggingface.co/lj1995/VoiceConversionWebUI/resolve/main/hubert_base.pt -d /content/Retrieval-based-Voice-Conversion-WebUI -o hubert_base.pt"
      ],
      "metadata": {
        "colab": {
          "base_uri": "https://localhost:8080/"
        },
        "id": "MJ_3bPLQneIk",
        "outputId": "a6cda2a5-29a5-45b4-81c4-ae62a5dd3e0f"
      },
      "execution_count": null,
      "outputs": [
        {
          "output_type": "stream",
          "name": "stdout",
          "text": [
            "\n",
            "Download Results:\n",
            "gid   |stat|avg speed  |path/URI\n",
            "======+====+===========+=======================================================\n",
            "6ea7f0|\u001b[1;32mOK\u001b[0m  |   213MiB/s|/content/Retrieval-based-Voice-Conversion-WebUI/hubert_base.pt\n",
            "\n",
            "Status Legend:\n",
            "(OK):download completed.\n"
          ]
        }
      ]
    },
    {
      "cell_type": "markdown",
      "source": [
        "# **【手順７：Google Driveのマウント】**<br>\n",
        "Google Drive上のフォルダ・ファイルを使えるようにします。<br>\n",
        "以下のコードを実行後に、許可を求められるのでGoogle DriveのGoogleアカウントで**「許可**」をします。"
      ],
      "metadata": {
        "id": "xX2-E4l_r0B9"
      }
    },
    {
      "cell_type": "code",
      "source": [
        "from google.colab import drive\n",
        "drive.mount('/content/drive')"
      ],
      "metadata": {
        "colab": {
          "base_uri": "https://localhost:8080/"
        },
        "id": "31yNr6iIsDIc",
        "outputId": "6fa8b7a9-72ef-4ed6-db37-2927dd6e8d36"
      },
      "execution_count": null,
      "outputs": [
        {
          "output_type": "stream",
          "name": "stdout",
          "text": [
            "Mounted at /content/drive\n"
          ]
        }
      ]
    },
    {
      "cell_type": "markdown",
      "source": [
        "# **【手順８：Google Drive内にデータセットと音声変換させたい音声ファイルを準備】**<br>\n",
        "[Google Drive](https://www.google.com/intl/ja_ALL/drive/) の「**MyDrive**」内に<br><br>\n",
        "・「**dataset**」<br><br>\n",
        "というボイスチェンジしたい音声ファイルが入っている学習予定のデータセットフォルダを用意します。<br>\n",
        "また、推論（音声変換）を試してみたい音声ファイル（WAV形式 or MP3形式）もアップロードしておきます。<br><br>\n",
        "**【フォルダ構造】**<br>\n",
        "dataset<br>\n",
        "　|---  〜1.wav<br>\n",
        "　|---  〜2.wav<br>\n",
        "　|---  〜3.wav<br>\n",
        "　|---  〜4.wav<br>\n",
        "　・<br>\n",
        "　・<br>\n",
        "　・<br>\n",
        "　|--- 〜10.wav<br>\n",
        "<br>\n",
        "＊一例として「<b>dataset</b>」フォルダ内には短文（句点。までの文章）で区切ったWAV形式の音声ファイルをいくつか入れておきます。<bR>\n",
        "＊チュートリアルでは「**1〜3秒**」の「1**0個**」の音声ファイルで学習していますが、本格的に音声変換したい方は、音声ファイル数を増やし、学習回数（Epoch数）を増やすと機械音っぽさなどが低減するのではないかと思います。（ただし学習に時間がかかります）。GPUはメモリ数が多いと良いようです。\n",
        "<br><br>\n",
        "学習させる音声ファイルを作るには、<br><br>\n",
        "・**Audacity**<br><br>\n",
        "などの音声編集アプリを使う方法を散見しました。<br>\n",
        "各データセットの音声ファイルの長さを、どの程度にしようか？と迷うところですが、製作者の説明では\n",
        "<br><br>\n",
        "**\"Use less than 10 minutes vocal to fast train a voice conversion model!\"**<br>\n",
        "（10分未満の音声を使用して、音声変換モデルを高速トレーニングします。 ）\n",
        "<br><br>\n",
        "とのことでした。<br>\n",
        "インターネット上で関連情報を調べてみたり、現在配布されている音声コーパスなどをみてみると\n",
        "<br><br>\n",
        "**・1ファイルあたり、数秒程度の音声**\n",
        "<br><br>\n",
        "のようでしたので、RVC WebUIの使い方をある程度覚えてから、色々と試行錯誤してみてください。\n",
        "<br><br><br>\n",
        "**【チュートリアルで使わせていただいている音声素材について】**<br>\n",
        "自分好みのオリジナルのAIボイスチェンジャーを作る前に、まずは、試しに一連の操作手順を学びたいと思っている方も多いのではないかと思います。<br>\n",
        "情報を探してみたところボイスチェンジャーの利用の許可をくださっている方もいるようでしたので、チュートリアルでは、以下の音声を学習に活用させていただきました。<br><br>\n",
        "**AIボイスチェンジャー学習用の声（女性の声）の音声素材ダウンロード：**<br>\n",
        "[あみたろの声素材（セリフ素材）一括ダウンロード | あみたろの声素材工房](https://amitaro.net/voice/voice_dl/serifzip/)<br>\n",
        "（PCM44,100Hz/16ビット/モノラルのWAV形式）<br>\n",
        "クレジット：あみたろの声素材工房 https://amitaro.net/<br><br>\n",
        "また、「**あみたろ**」さんの声に変換する前の音声素材は、こちらのページからダウンロードできるようにしておきましたので、必要に応じてご活用ください。<br><br>\n",
        "**推論を試す声（男性の声）の音声素材ダウンロード：**<br>\n",
        "[ダウンロード：推論（AIボイスチェンジ）を試す声の音声素材（男性の声）](https://child-programmer.com/download/ai-voice-change-tutorial/)<br>\n",
        "（サンプルレート48,000Hz/24ビット/ステレオのWAV形式）\n",
        "<br><br>\n",
        "尚、変換する前の音声素材は、こちらの音声から一部抜粋させていただきました。<br><br>\n",
        "**推論を試す用の声素材元：**<br>\n",
        "[Kyubyong/css10（Apache-2.0 license） | GitHub ](https://github.com/Kyubyong/css10)\n",
        "<br><br>\n"
      ],
      "metadata": {
        "id": "knav5ocrss57"
      }
    },
    {
      "cell_type": "markdown",
      "source": [
        "# **【手順９：重複ファイル名の変換】<br>**\n",
        "データセット（「**dataset**」フォルダ）内の重複ファイル名を変更します。<br>\n",
        "（Google Colaboratoryで使用しているPythonなどのバージョンも取得しています）"
      ],
      "metadata": {
        "id": "aTzm-QeEx6sh"
      }
    },
    {
      "cell_type": "code",
      "source": [
        "!ls -a /content/drive/MyDrive/dataset\n",
        "!rename 's/(\\w+)\\.(\\w+)~(\\d*)/$1_$3.$2/' /content/drive/MyDrive/dataset/*.*~*"
      ],
      "metadata": {
        "colab": {
          "base_uri": "https://localhost:8080/"
        },
        "id": "QXVuXv5rx5xx",
        "outputId": "83d0ba81-a37e-4483-ccea-cfc4b28d5aaa"
      },
      "execution_count": null,
      "outputs": [
        {
          "output_type": "stream",
          "name": "stdout",
          "text": [
            "ls: cannot access '/content/dataset/': No such file or directory\n"
          ]
        }
      ]
    },
    {
      "cell_type": "markdown",
      "source": [
        "バージョン確認用コード"
      ],
      "metadata": {
        "id": "nlU9x5OVhmsH"
      }
    },
    {
      "cell_type": "code",
      "source": [
        "print('（実行時点のバージョンです）') #2023年7月18日実行時点\n",
        "\n",
        "import platform\n",
        "print('python ' + platform.python_version())\n",
        "\n",
        "import torch\n",
        "print('PyTprch' + torch.__version__)\n",
        "\n",
        "import torchvision\n",
        "print('torchvision  ' + torchvision .__version__)\n",
        "\n",
        "import torchaudio\n",
        "print('torchaudio ' + torchaudio.__version__)"
      ],
      "metadata": {
        "colab": {
          "base_uri": "https://localhost:8080/"
        },
        "id": "QLTpyz0XhfIo",
        "outputId": "8746f392-74b0-4049-a27b-67e4405df856"
      },
      "execution_count": null,
      "outputs": [
        {
          "output_type": "stream",
          "name": "stdout",
          "text": [
            "（実行時点のバージョンです）\n",
            "python 3.10.12\n",
            "PyTprch2.0.1+cu118\n",
            "torchvision  0.15.2+cu118\n",
            "torchaudio 2.0.2+cu118\n"
          ]
        }
      ]
    },
    {
      "cell_type": "markdown",
      "source": [
        "# **【手順１０：RVC WebUIの起動】**<br>\n",
        "ウェブインターフェース上で、学習や推論（音声変換）を実施します。<br>\n",
        "以下のコードを実行後に表示される<br><br>\n",
        "\n",
        "***Running on public URL: https://〜.gradio.live***<br><br>\n",
        "のURLをクリックするとRVC WebUIが使えます。<br><br>\n",
        "RVC WebUIの表示を「**日本語化**」させたい場合には、以下のリンク先の情報を参照ください。<br>\n",
        "[【RVC v1モデル対応版】RVC WebUIの日本語化 - コピー&ペースト用コード by 子供プログラマー](https://child-programmer.com/ai-voice-change-tutorial-translate-ja-v1/)<br><br>\n"
      ],
      "metadata": {
        "id": "rQhXoVY40fJV"
      }
    },
    {
      "cell_type": "code",
      "source": [
        "%cd /content/Retrieval-based-Voice-Conversion-WebUI\n",
        "# %load_ext tensorboard\n",
        "# %tensorboard --logdir /content/Retrieval-based-Voice-Conversion-WebUI/logs\n",
        "!python3 infer-web.py --colab --pycmd python3"
      ],
      "metadata": {
        "id": "7E_4UwGk0zfS"
      },
      "execution_count": null,
      "outputs": []
    },
    {
      "cell_type": "markdown",
      "source": [
        "# **【RVC WebUIの使い方】**<br>\n",
        "\n",
        "\n",
        "\n"
      ],
      "metadata": {
        "id": "2VJwwvsb9noD"
      }
    },
    {
      "cell_type": "markdown",
      "source": [
        "# **【学習編 & 推論編】**<br>\n",
        "\n",
        "<br>以下の記事ページを参照ください。<br><br>\n",
        "**チュートリアル記事：**<br>\n",
        "[日本人のためのRVC WebUIの使い方：簡単オリジナルAIボイスチェンジャー作成 by 子供プログラマー](https://child-programmer.com/ai-voice-change-tutorial/)\n",
        "<br><br>\n",
        "RVC WebUIで作成した学習モデルでテキスト音声合成（音声読み上げ）に挑戦！<br>\n",
        "[VG WebUIの使い方：AIボイスチェンジャー（RVC WebUI）の学習モデルでテキスト音声合成入門 by 子供プログラマー](https://child-programmer.com/ai-voice-change-tts-tutorial/)\n"
      ],
      "metadata": {
        "id": "_HhxDE3xCvFe"
      }
    },
    {
      "cell_type": "markdown",
      "source": [
        "<br><br>【公開日】2023年4月15日<br>\n",
        "【最終更新】2023年8月12日<br>\n",
        "\n",
        "<br><br>\n",
        "[日本人のための人工知能プログラマー入門講座（機械学習）by 子供プログラマー](https://child-programmer.com/ai/)"
      ],
      "metadata": {
        "id": "3vMARapMW2BY"
      }
    }
  ]
}